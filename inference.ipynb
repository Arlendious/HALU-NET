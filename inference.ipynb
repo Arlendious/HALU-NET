{
 "cells": [
  {
   "cell_type": "code",
   "execution_count": 2,
   "id": "6ca0cfa0",
   "metadata": {
    "_kg_hide-input": true,
    "execution": {
     "iopub.execute_input": "2022-04-27T20:28:12.579202Z",
     "iopub.status.busy": "2022-04-27T20:28:12.577913Z",
     "iopub.status.idle": "2022-04-27T20:28:21.820680Z",
     "shell.execute_reply": "2022-04-27T20:28:21.820011Z",
     "shell.execute_reply.started": "2022-04-26T09:04:42.982669Z"
    },
    "papermill": {
     "duration": 9.282181,
     "end_time": "2022-04-27T20:28:21.820837",
     "exception": false,
     "start_time": "2022-04-27T20:28:12.538656",
     "status": "completed"
    },
    "tags": []
   },
   "outputs": [],
   "source": [
    "import numpy as np\n",
    "import pandas as pd\n",
    "pd.options.plotting.backend = \"plotly\"\n",
    "import random\n",
    "from glob import glob\n",
    "import os, shutil\n",
    "from tqdm import tqdm\n",
    "tqdm.pandas()\n",
    "import time\n",
    "import copy\n",
    "import joblib\n",
    "from collections import defaultdict\n",
    "import gc\n",
    "from IPython import display as ipd\n",
    "\n",
    "# visualization\n",
    "import cv2\n",
    "import matplotlib.pyplot as plt\n",
    "\n",
    "# Sklearn\n",
    "from sklearn.model_selection import StratifiedKFold, KFold\n",
    "\n",
    "# PyTorch \n",
    "import torch\n",
    "import torch.nn as nn\n",
    "import torch.optim as optim\n",
    "from torch.optim import lr_scheduler\n",
    "from torch.utils.data import Dataset, DataLoader\n",
    "from torch.cuda import amp\n",
    "import torch.nn.functional as F\n",
    "\n",
    "import timm\n",
    "\n",
    "# Albumentations for augmentations\n",
    "import albumentations as A\n",
    "from albumentations.pytorch import ToTensorV2\n",
    "\n",
    "# For colored terminal text\n",
    "from colorama import Fore, Back, Style\n",
    "c_  = Fore.GREEN\n",
    "sr_ = Style.RESET_ALL\n",
    "\n",
    "import warnings\n",
    "warnings.filterwarnings(\"ignore\")\n",
    "\n",
    "# For descriptive error messages\n",
    "os.environ['CUDA_LAUNCH_BLOCKING'] = \"1\""
   ]
  },
  {
   "cell_type": "markdown",
   "id": "5667fc95",
   "metadata": {
    "papermill": {
     "duration": 0.02814,
     "end_time": "2022-04-27T20:28:21.877237",
     "exception": false,
     "start_time": "2022-04-27T20:28:21.849097",
     "status": "completed"
    },
    "tags": []
   },
   "source": [
    "# ⚙️ Configuration "
   ]
  },
  {
   "cell_type": "code",
   "execution_count": null,
   "id": "9f240b2e",
   "metadata": {
    "_kg_hide-input": true,
    "execution": {
     "iopub.execute_input": "2022-04-27T20:28:22.018920Z",
     "iopub.status.busy": "2022-04-27T20:28:22.018090Z",
     "iopub.status.idle": "2022-04-27T20:28:22.021680Z",
     "shell.execute_reply": "2022-04-27T20:28:22.020614Z",
     "shell.execute_reply.started": "2022-04-26T09:04:51.181699Z"
    },
    "papermill": {
     "duration": 0.115582,
     "end_time": "2022-04-27T20:28:22.021823",
     "exception": false,
     "start_time": "2022-04-27T20:28:21.906241",
     "status": "completed"
    },
    "tags": []
   },
   "outputs": [],
   "source": [
    "class CFG:\n",
    "    seed          = 101\n",
    "    debug         = False # set debug=False for Full Training\n",
    "    train_bs      = 64\n",
    "    valid_bs      = train_bs*2\n",
    "    img_size      = [224, 224]\n",
    "    epochs        = 15\n",
    "    lr            = 2e-3\n",
    "    scheduler     = 'CosineAnnealingLR'\n",
    "    min_lr        = 1e-6\n",
    "    T_max         = int(30000/train_bs*epochs)+50\n",
    "    T_0           = 25\n",
    "    warmup_epochs = 0\n",
    "    wd            = 1e-6\n",
    "    n_accumulate  = max(1, 32//train_bs)\n",
    "    n_fold        = 5\n",
    "    num_classes   = 3\n",
    "    device        = torch.device(\"cuda:0\" if torch.cuda.is_available() else \"cpu\")\n",
    "    thr           = 0.45\n",
    "    ttas          = [0]"
   ]
  },
  {
   "cell_type": "code",
   "execution_count": 4,
   "id": "871e6ca9",
   "metadata": {
    "_kg_hide-input": true,
    "execution": {
     "iopub.execute_input": "2022-04-27T20:28:22.147399Z",
     "iopub.status.busy": "2022-04-27T20:28:22.146533Z",
     "iopub.status.idle": "2022-04-27T20:28:22.152043Z",
     "shell.execute_reply": "2022-04-27T20:28:22.152923Z",
     "shell.execute_reply.started": "2022-04-26T09:04:51.248039Z"
    },
    "papermill": {
     "duration": 0.042369,
     "end_time": "2022-04-27T20:28:22.153078",
     "exception": false,
     "start_time": "2022-04-27T20:28:22.110709",
     "status": "completed"
    },
    "tags": []
   },
   "outputs": [
    {
     "name": "stdout",
     "output_type": "stream",
     "text": [
      "> SEEDING DONE\n"
     ]
    }
   ],
   "source": [
    "def set_seed(seed = 42):\n",
    "    '''Sets the seed of the entire notebook so results are the same every time we run.\n",
    "    This is for REPRODUCIBILITY.'''\n",
    "    np.random.seed(seed)\n",
    "    random.seed(seed)\n",
    "    torch.manual_seed(seed)\n",
    "    torch.cuda.manual_seed(seed)\n",
    "    # When running on the CuDNN backend, two further options must be set\n",
    "    torch.backends.cudnn.deterministic = True\n",
    "    torch.backends.cudnn.benchmark = False\n",
    "    # Set a fixed value for the hash seed\n",
    "    os.environ['PYTHONHASHSEED'] = str(seed)\n",
    "    print('> SEEDING DONE')\n",
    "    \n",
    "set_seed(CFG.seed)"
   ]
  },
  {
   "cell_type": "code",
   "execution_count": 5,
   "id": "20aacf45",
   "metadata": {
    "_kg_hide-input": true,
    "execution": {
     "iopub.execute_input": "2022-04-27T20:28:22.330392Z",
     "iopub.status.busy": "2022-04-27T20:28:22.329494Z",
     "iopub.status.idle": "2022-04-27T20:28:22.332095Z",
     "shell.execute_reply": "2022-04-27T20:28:22.331659Z",
     "shell.execute_reply.started": "2022-04-26T09:04:51.264213Z"
    },
    "papermill": {
     "duration": 0.040772,
     "end_time": "2022-04-27T20:28:22.332233",
     "exception": false,
     "start_time": "2022-04-27T20:28:22.291461",
     "status": "completed"
    },
    "tags": []
   },
   "outputs": [],
   "source": [
    "def get_metadata(row):\n",
    "    data = row['id'].split('_')\n",
    "    case = int(data[0].replace('case',''))\n",
    "    day = int(data[1].replace('day',''))\n",
    "    slice_ = int(data[-1])\n",
    "    row['case'] = case\n",
    "    row['day'] = day\n",
    "    row['slice'] = slice_\n",
    "    return row\n",
    "\n",
    "def path2info(row):\n",
    "    path = row['image_path']\n",
    "    data = path.split('/')\n",
    "    slice_ = int(data[-1].split('_')[1])\n",
    "    case = int(data[-3].split('_')[0].replace('case',''))\n",
    "    day = int(data[-3].split('_')[1].replace('day',''))\n",
    "    width = int(data[-1].split('_')[2])\n",
    "    height = int(data[-1].split('_')[3])\n",
    "    row['height'] = height\n",
    "    row['width'] = width\n",
    "    row['case'] = case\n",
    "    row['day'] = day\n",
    "    row['slice'] = slice_\n",
    "#     row['id'] = f'case{case}_day{day}_slice_{slice_}'\n",
    "    return row"
   ]
  },
  {
   "cell_type": "code",
   "execution_count": 6,
   "id": "fe522ae3",
   "metadata": {
    "_kg_hide-input": true,
    "execution": {
     "iopub.execute_input": "2022-04-27T20:28:22.399063Z",
     "iopub.status.busy": "2022-04-27T20:28:22.398195Z",
     "iopub.status.idle": "2022-04-27T20:28:22.400376Z",
     "shell.execute_reply": "2022-04-27T20:28:22.400802Z",
     "shell.execute_reply.started": "2022-04-26T09:04:51.279158Z"
    },
    "papermill": {
     "duration": 0.040301,
     "end_time": "2022-04-27T20:28:22.400977",
     "exception": false,
     "start_time": "2022-04-27T20:28:22.360676",
     "status": "completed"
    },
    "tags": []
   },
   "outputs": [],
   "source": [
    "def load_img(path):\n",
    "    img = cv2.imread(path, cv2.IMREAD_UNCHANGED)\n",
    "    img = np.tile(img[...,None], [1, 1, 3]) # gray to rgb\n",
    "    img = img.astype('float32') # original is uint16\n",
    "    mx = np.max(img)\n",
    "    if mx:\n",
    "        img/=mx # scale image to [0, 1]\n",
    "    return img\n",
    "\n",
    "def load_msk(path):\n",
    "    msk = np.load(path)\n",
    "    msk = msk.astype('float32')\n",
    "    msk/=255.0\n",
    "    return msk\n",
    "\n",
    "def show_img(img, mask=None):\n",
    "    clahe = cv2.createCLAHE(clipLimit=2.0, tileGridSize=(8,8))\n",
    "    img = clahe.apply(img)\n",
    "    plt.imshow(img, cmap='bone')\n",
    "    \n",
    "    if mask is not None:\n",
    "        # plt.imshow(np.ma.masked_where(mask!=1, mask), alpha=0.5, cmap='autumn')\n",
    "        plt.imshow(mask, alpha=0.5)\n",
    "        handles = [Rectangle((0,0),1,1, color=_c) for _c in [(0.667,0.0,0.0), (0.0,0.667,0.0), (0.0,0.0,0.667)]]\n",
    "        labels = [\"Large Bowel\", \"Small Bowel\", \"Stomach\"]\n",
    "        plt.legend(handles,labels)\n",
    "    plt.axis('off')"
   ]
  },
  {
   "cell_type": "code",
   "execution_count": 7,
   "id": "58087e5b",
   "metadata": {
    "_kg_hide-input": true,
    "execution": {
     "iopub.execute_input": "2022-04-27T20:28:22.467785Z",
     "iopub.status.busy": "2022-04-27T20:28:22.466865Z",
     "iopub.status.idle": "2022-04-27T20:28:22.468816Z",
     "shell.execute_reply": "2022-04-27T20:28:22.469197Z",
     "shell.execute_reply.started": "2022-04-26T09:04:51.294052Z"
    },
    "papermill": {
     "duration": 0.039304,
     "end_time": "2022-04-27T20:28:22.469360",
     "exception": false,
     "start_time": "2022-04-27T20:28:22.430056",
     "status": "completed"
    },
    "tags": []
   },
   "outputs": [],
   "source": [
    "# ref: https://www.kaggle.com/paulorzp/run-length-encode-and-decode\n",
    "def rle_decode(mask_rle, shape):\n",
    "    '''\n",
    "    mask_rle: run-length as string formated (start length)\n",
    "    shape: (height,width) of array to return \n",
    "    Returns numpy array, 1 - mask, 0 - background\n",
    "\n",
    "    '''\n",
    "    s = mask_rle.split()\n",
    "    starts, lengths = [np.asarray(x, dtype=int) for x in (s[0:][::2], s[1:][::2])]\n",
    "    starts -= 1\n",
    "    ends = starts + lengths\n",
    "    img = np.zeros(shape[0]*shape[1], dtype=np.uint8)\n",
    "    for lo, hi in zip(starts, ends):\n",
    "        img[lo:hi] = 1\n",
    "    return img.reshape(shape)  # Needed to align to RLE direction\n",
    "\n",
    "\n",
    "# ref.: https://www.kaggle.com/stainsby/fast-tested-rle\n",
    "def rle_encode(img):\n",
    "    '''\n",
    "    img: numpy array, 1 - mask, 0 - background\n",
    "    Returns run length as string formated\n",
    "    '''\n",
    "    pixels = img.flatten()\n",
    "    pixels = np.concatenate([[0], pixels, [0]])\n",
    "    runs = np.where(pixels[1:] != pixels[:-1])[0] + 1\n",
    "    runs[1::2] -= runs[::2]\n",
    "    return ' '.join(str(x) for x in runs)"
   ]
  },
  {
   "cell_type": "code",
   "execution_count": 10,
   "id": "98921796",
   "metadata": {
    "execution": {
     "iopub.execute_input": "2022-04-27T20:28:22.829073Z",
     "iopub.status.busy": "2022-04-27T20:28:22.828502Z",
     "iopub.status.idle": "2022-04-27T20:28:24.798812Z",
     "shell.execute_reply": "2022-04-27T20:28:24.798349Z",
     "shell.execute_reply.started": "2022-04-26T09:06:31.672652Z"
    },
    "papermill": {
     "duration": 2.004989,
     "end_time": "2022-04-27T20:28:24.798934",
     "exception": false,
     "start_time": "2022-04-27T20:28:22.793945",
     "status": "completed"
    },
    "tags": []
   },
   "outputs": [
    {
     "name": "stderr",
     "output_type": "stream",
     "text": [
      "100%|██████████| 1000/1000 [00:01<00:00, 692.79it/s]\n"
     ]
    }
   ],
   "source": [
    "sub_df = pd.read_csv('../input/uw-madison-gi-tract-image-segmentation/sample_submission.csv')\n",
    "if not len(sub_df):\n",
    "    debug = True\n",
    "    sub_df = pd.read_csv('../input/uw-madison-gi-tract-image-segmentation/train.csv')[:1000*3]\n",
    "    sub_df = sub_df.drop(columns=['class','segmentation']).drop_duplicates()\n",
    "else:\n",
    "    debug = False\n",
    "    sub_df = sub_df.drop(columns=['class','predicted']).drop_duplicates()\n",
    "sub_df = sub_df.progress_apply(get_metadata,axis=1)"
   ]
  },
  {
   "cell_type": "code",
   "execution_count": 13,
   "id": "0d9e05d0",
   "metadata": {
    "_kg_hide-input": true,
    "execution": {
     "iopub.execute_input": "2022-04-27T20:30:06.326048Z",
     "iopub.status.busy": "2022-04-27T20:30:06.325105Z",
     "iopub.status.idle": "2022-04-27T20:30:06.327447Z",
     "shell.execute_reply": "2022-04-27T20:30:06.328072Z",
     "shell.execute_reply.started": "2022-04-26T09:10:28.756909Z"
    },
    "papermill": {
     "duration": 0.273662,
     "end_time": "2022-04-27T20:30:06.328366",
     "exception": false,
     "start_time": "2022-04-27T20:30:06.054704",
     "status": "completed"
    },
    "tags": []
   },
   "outputs": [],
   "source": [
    "class BuildDataset(torch.utils.data.Dataset):\n",
    "    def __init__(self, df, label=False, transforms=None):\n",
    "        self.df         = df\n",
    "        self.label      = label\n",
    "        self.img_paths  = df['image_path'].tolist()\n",
    "        self.ids        = df['id'].tolist()\n",
    "        if 'msk_path' in df.columns:\n",
    "            self.msk_paths  = df['mask_path'].tolist()\n",
    "        else:\n",
    "            self.msk_paths = None\n",
    "        self.transforms = transforms\n",
    "        \n",
    "    def __len__(self):\n",
    "        return len(self.df)\n",
    "    \n",
    "    def __getitem__(self, index):\n",
    "        img_path  = self.img_paths[index]\n",
    "        id_       = self.ids[index]\n",
    "        img = []\n",
    "        img = load_img(img_path)\n",
    "        h, w = img.shape[:2]\n",
    "        if self.label:\n",
    "            msk_path = self.msk_paths[index]\n",
    "            msk = load_msk(msk_path)\n",
    "            if self.transforms:\n",
    "                data = self.transforms(image=img, mask=msk)\n",
    "                img  = data['image']\n",
    "                msk  = data['mask']\n",
    "            img = np.transpose(img, (2, 0, 1))\n",
    "            msk = np.transpose(msk, (2, 0, 1))\n",
    "            return torch.tensor(img), torch.tensor(msk)\n",
    "        else:\n",
    "            if self.transforms:\n",
    "                data = self.transforms(image=img)\n",
    "                img  = data['image']\n",
    "            img = np.transpose(img, (2, 0, 1))\n",
    "            return torch.tensor(img), id_, h, w"
   ]
  },
  {
   "cell_type": "code",
   "execution_count": 20,
   "id": "3410465c",
   "metadata": {
    "_kg_hide-input": true,
    "execution": {
     "iopub.execute_input": "2022-04-27T20:30:16.473424Z",
     "iopub.status.busy": "2022-04-27T20:30:16.472411Z",
     "iopub.status.idle": "2022-04-27T20:30:16.474435Z",
     "shell.execute_reply": "2022-04-27T20:30:16.474860Z",
     "shell.execute_reply.started": "2022-04-26T09:10:42.724186Z"
    },
    "papermill": {
     "duration": 0.273656,
     "end_time": "2022-04-27T20:30:16.475008",
     "exception": false,
     "start_time": "2022-04-27T20:30:16.201352",
     "status": "completed"
    },
    "tags": []
   },
   "outputs": [],
   "source": [
    "@torch.no_grad()\n",
    "def infer(model_paths, test_loader, num_log=1, thr=CFG.thr):\n",
    "    msks = []; imgs = [];\n",
    "    pred_strings = []; pred_ids = []; pred_classes = [];\n",
    "    for idx, (img, ids, heights, widths) in enumerate(tqdm(test_loader, total=len(test_loader), desc='Infer ')):\n",
    "        img = img.to(CFG.device, dtype=torch.float) # .squeeze(0)\n",
    "        size = img.size()\n",
    "        msk = []\n",
    "        msk = torch.zeros((size[0], 3, size[2], size[3]), device=CFG.device, dtype=torch.float32)\n",
    "        for path in model_paths:\n",
    "            model = load_model(path)\n",
    "            out   = model(img) # .squeeze(0) # removing batch axis\n",
    "            out   = nn.Sigmoid()(out) # removing channel axis\n",
    "            msk+=out/len(model_paths)\n",
    "        msk = (msk.permute((0,2,3,1))>thr).to(torch.uint8).cpu().detach().numpy() # shape: (n, h, w, c)\n",
    "        result = masks2rles(msk, ids, heights, widths)\n",
    "        pred_strings.extend(result[0])\n",
    "        pred_ids.extend(result[1])\n",
    "        pred_classes.extend(result[2])\n",
    "        if idx<num_log:\n",
    "            img = img.permute((0,2,3,1)).cpu().detach().numpy()\n",
    "            imgs.append(img[:10])\n",
    "            msks.append(msk[:10])\n",
    "        del img, msk, out, model, result\n",
    "        gc.collect()\n",
    "        torch.cuda.empty_cache()\n",
    "    return pred_strings, pred_ids, pred_classes, imgs, msks"
   ]
  },
  {
   "cell_type": "code",
   "execution_count": 21,
   "id": "49581f32",
   "metadata": {
    "execution": {
     "iopub.execute_input": "2022-04-27T20:30:17.032681Z",
     "iopub.status.busy": "2022-04-27T20:30:17.032090Z",
     "iopub.status.idle": "2022-04-27T20:30:46.056174Z",
     "shell.execute_reply": "2022-04-27T20:30:46.056860Z",
     "shell.execute_reply.started": "2022-04-26T09:11:03.507731Z"
    },
    "papermill": {
     "duration": 29.306336,
     "end_time": "2022-04-27T20:30:46.057096",
     "exception": false,
     "start_time": "2022-04-27T20:30:16.750760",
     "status": "completed"
    },
    "tags": []
   },
   "outputs": [
    {
     "name": "stderr",
     "output_type": "stream",
     "text": [
      "Infer : 100%|██████████| 8/8 [00:29<00:00,  3.63s/it]\n"
     ]
    }
   ],
   "source": [
    "test_dataset = BuildDataset(test_df, transforms=data_transforms['valid'])\n",
    "test_loader  = DataLoader(test_dataset, batch_size=CFG.valid_bs, \n",
    "                          num_workers=4, shuffle=False, pin_memory=False)\n",
    "model_paths  = glob(f'{CKPT_DIR}/best_epoch*.bin')\n",
    "pred_strings, pred_ids, pred_classes, imgs, msks = infer(model_paths, test_loader)"
   ]
  },
  {
   "cell_type": "code",
   "execution_count": 23,
   "id": "988af8bb",
   "metadata": {
    "execution": {
     "iopub.execute_input": "2022-04-27T20:30:49.585307Z",
     "iopub.status.busy": "2022-04-27T20:30:49.584203Z",
     "iopub.status.idle": "2022-04-27T20:30:49.588102Z",
     "shell.execute_reply": "2022-04-27T20:30:49.588816Z",
     "shell.execute_reply.started": "2022-04-26T09:13:03.42948Z"
    },
    "papermill": {
     "duration": 0.520127,
     "end_time": "2022-04-27T20:30:49.588966",
     "exception": false,
     "start_time": "2022-04-27T20:30:49.068839",
     "status": "completed"
    },
    "tags": []
   },
   "outputs": [
    {
     "data": {
      "text/plain": [
       "48769"
      ]
     },
     "execution_count": 23,
     "metadata": {},
     "output_type": "execute_result"
    }
   ],
   "source": [
    "del imgs, msks\n",
    "gc.collect()"
   ]
  },
  {
   "cell_type": "code",
   "execution_count": 24,
   "id": "1b813540",
   "metadata": {
    "_kg_hide-input": true,
    "execution": {
     "iopub.execute_input": "2022-04-27T20:30:50.713832Z",
     "iopub.status.busy": "2022-04-27T20:30:50.713262Z",
     "iopub.status.idle": "2022-04-27T20:30:51.016057Z",
     "shell.execute_reply": "2022-04-27T20:30:51.016806Z",
     "shell.execute_reply.started": "2022-04-26T09:13:04.65183Z"
    },
    "papermill": {
     "duration": 0.590172,
     "end_time": "2022-04-27T20:30:51.016994",
     "exception": false,
     "start_time": "2022-04-27T20:30:50.426822",
     "status": "completed"
    },
    "tags": []
   },
   "outputs": [
    {
     "data": {
      "text/html": [
       "<div>\n",
       "<style scoped>\n",
       "    .dataframe tbody tr th:only-of-type {\n",
       "        vertical-align: middle;\n",
       "    }\n",
       "\n",
       "    .dataframe tbody tr th {\n",
       "        vertical-align: top;\n",
       "    }\n",
       "\n",
       "    .dataframe thead th {\n",
       "        text-align: right;\n",
       "    }\n",
       "</style>\n",
       "<table border=\"1\" class=\"dataframe\">\n",
       "  <thead>\n",
       "    <tr style=\"text-align: right;\">\n",
       "      <th></th>\n",
       "      <th>id</th>\n",
       "      <th>class</th>\n",
       "      <th>predicted</th>\n",
       "    </tr>\n",
       "  </thead>\n",
       "  <tbody>\n",
       "    <tr>\n",
       "      <th>0</th>\n",
       "      <td>case123_day20_slice_0001</td>\n",
       "      <td>large_bowel</td>\n",
       "      <td></td>\n",
       "    </tr>\n",
       "    <tr>\n",
       "      <th>1</th>\n",
       "      <td>case123_day20_slice_0001</td>\n",
       "      <td>small_bowel</td>\n",
       "      <td></td>\n",
       "    </tr>\n",
       "    <tr>\n",
       "      <th>2</th>\n",
       "      <td>case123_day20_slice_0001</td>\n",
       "      <td>stomach</td>\n",
       "      <td></td>\n",
       "    </tr>\n",
       "    <tr>\n",
       "      <th>3</th>\n",
       "      <td>case123_day20_slice_0002</td>\n",
       "      <td>large_bowel</td>\n",
       "      <td></td>\n",
       "    </tr>\n",
       "    <tr>\n",
       "      <th>4</th>\n",
       "      <td>case123_day20_slice_0002</td>\n",
       "      <td>small_bowel</td>\n",
       "      <td></td>\n",
       "    </tr>\n",
       "  </tbody>\n",
       "</table>\n",
       "</div>"
      ],
      "text/plain": [
       "                         id        class predicted\n",
       "0  case123_day20_slice_0001  large_bowel          \n",
       "1  case123_day20_slice_0001  small_bowel          \n",
       "2  case123_day20_slice_0001      stomach          \n",
       "3  case123_day20_slice_0002  large_bowel          \n",
       "4  case123_day20_slice_0002  small_bowel          "
      ]
     },
     "metadata": {},
     "output_type": "display_data"
    }
   ],
   "source": [
    "pred_df = pd.DataFrame({\n",
    "    \"id\":pred_ids,\n",
    "    \"class\":pred_classes,\n",
    "    \"predicted\":pred_strings\n",
    "})\n",
    "if not debug:\n",
    "    sub_df = pd.read_csv('../input/uw-madison-gi-tract-image-segmentation/sample_submission.csv')\n",
    "    del sub_df['predicted']\n",
    "else:\n",
    "    sub_df = pd.read_csv('../input/uw-madison-gi-tract-image-segmentation/train.csv')[:1000*3]\n",
    "    del sub_df['segmentation']\n",
    "    \n",
    "sub_df = sub_df.merge(pred_df, on=['id','class'])\n",
    "sub_df.to_csv('submission.csv',index=False)\n",
    "display(sub_df.head(5))"
   ]
  }
 ],
 "metadata": {
  "kernelspec": {
   "display_name": "Python 3",
   "language": "python",
   "name": "python3"
  },
  "language_info": {
   "codemirror_mode": {
    "name": "ipython",
    "version": 3
   },
   "file_extension": ".py",
   "mimetype": "text/x-python",
   "name": "python",
   "nbconvert_exporter": "python",
   "pygments_lexer": "ipython3",
   "version": "3.7.10"
  },
  "papermill": {
   "default_parameters": {},
   "duration": 287.805076,
   "end_time": "2022-04-27T20:30:55.518807",
   "environment_variables": {},
   "exception": null,
   "input_path": "__notebook__.ipynb",
   "output_path": "__notebook__.ipynb",
   "parameters": {},
   "start_time": "2022-04-27T20:26:07.713731",
   "version": "2.3.3"
  }
 },
 "nbformat": 4,
 "nbformat_minor": 5
}
